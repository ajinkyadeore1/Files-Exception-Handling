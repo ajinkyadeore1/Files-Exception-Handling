{
  "nbformat": 4,
  "nbformat_minor": 0,
  "metadata": {
    "colab": {
      "provenance": []
    },
    "kernelspec": {
      "name": "python3",
      "display_name": "Python 3"
    },
    "language_info": {
      "name": "python"
    }
  },
  "cells": [
    {
      "cell_type": "markdown",
      "source": [
        "**Files, exceptional handling, logging and\n",
        "memory management Questions**\n",
        "\n",
        "\n",
        "1. What is the difference between interpreted and compiled languages?\n",
        "\n",
        "--> **Compiled Languages:**\n",
        "\n",
        "a. Compiled languages are transformed into machine code by a compiler before execution, creating an independent executable file.\n",
        "\n",
        "b. The compilation happens once, and the program can be run multiple times without needing recompilation.\n",
        "\n",
        "c. Execution is generally faster because the program is directly executed as machine code by the processor.\n",
        "\n",
        "d. Examples include C, C++, and Rust, which require platform-specific compilation for different environments.\n",
        "\n",
        "**Interpreted Languages**:\n",
        "\n",
        "a. Interpreted languages are executed line-by-line by an interpreter at runtime, without needing an intermediate machine code file.\n",
        "\n",
        "b. The source code is parsed and executed each time the program runs, offering flexibility in development.\n",
        "\n",
        "c. Execution is generally slower since the code is translated during runtime.\n",
        "\n",
        "d. Examples include Python, JavaScript, and Ruby, which allow easier debugging and platform independence.\n",
        "\n",
        "2. What is exception handling in Python?\n",
        "\n",
        "--> Exception handling in Python is a mechanism to handle runtime errors, allowing the program to continue execution without crashing. It uses try, except, else, and finally blocks to manage errors.\n",
        "\n",
        "a. try: The block of code that may raise an exception.\n",
        "\n",
        "b. except: The block of code that handles the exception when it occurs.\n",
        "\n",
        "c. else: The block of code that runs if no exception is raised.\n",
        "\n",
        "d. finally: The block of code that runs regardless of whether an exception occurs, often used for cleanup tasks.\n",
        "\n",
        "3. What is the purpose of the finally block in exception handling?\n",
        "\n",
        "--> The finally block in exception handling is used to ensure that certain code is executed, regardless of whether an exception occurred or not. Its main purpose is to perform cleanup actions, such as closing files, releasing resources, or terminating network connections, ensuring that these actions always happen.\n",
        "\n",
        "a. It is executed no matter what, even if an exception was raised or not.\n",
        "\n",
        "b. It runs after the try and except blocks, providing a way to clean up resources.\n",
        "\n",
        "c. Typically used for tasks like closing files or releasing external resources, ensuring they occur even if the program encounters an error.\n",
        "\n",
        "4. What is logging in Python?\n",
        "\n",
        "--> Logging in Python refers to the practice of recording events, errors, and other information during the execution of a program. It helps developers track the behavior of an application, debug issues, and monitor performance.\n",
        "\n",
        "a. Python's built-in logging module allows for flexible logging, enabling you to log messages of different severity levels (e.g., DEBUG, INFO, WARNING, ERROR, CRITICAL).\n",
        "\n",
        "b. It can log messages to various outputs, such as the console, files, or remote servers, making it a useful tool for both development and production environments.\n",
        "\n",
        "c. Logging messages include timestamps, message levels, and additional context, helping developers analyze and understand the program's execution flow.\n",
        "\n",
        "5. What is the significance of the __del__ method in Python?\n",
        "\n",
        "--> The __del__ method in Python is a special method, also known as a destructor, that is called when an object is about to be destroyed. It allows for custom cleanup actions before the object is removed from memory, such as releasing resources or closing files.\n",
        "\n",
        "a. It is automatically invoked when the object's reference count drops to zero, meaning it is no longer in use.\n",
        "\n",
        "b. The __del__ method can be used to release external resources like file handles, network connections, or database connections.\n",
        "\n",
        "c. However, it is not guaranteed to be called immediately when the object is deleted, and relying on it for critical resource management is not recommended due to potential issues with garbage collection.\n",
        "\n",
        "6. What is the difference between import and from ... import in Python?\n",
        "\n",
        "--> The difference between import and from ... import in Python lies in how you bring modules or specific components of a module into your code.\n",
        "\n",
        "**import:**\n",
        "\n",
        "Usage: It imports the entire module, and you access its functions, classes, or variables using the module name.\n",
        "\n",
        "Syntax: import module_name\n",
        "\n",
        "**from ... import:**\n",
        "\n",
        "Usage: It imports specific functions, classes, or variables directly from a module, so you don’t need to reference the module name when using them.\n",
        "\n",
        "Syntax: from module_name import item_name\n",
        "\n",
        "7. How can you handle multiple exceptions in Python?\n",
        "\n",
        "--> In Python, multiple exceptions can be handled using the following approaches:\n",
        "\n",
        "Multiple except Blocks: You can specify separate except blocks for each exception type you want to handle. Each block will catch a specific exception, allowing for different handling for each case.\n",
        "\n",
        "Multiple Exceptions in a Single except Block: You can specify multiple exceptions in a single except block by passing them as a tuple. This allows you to handle different exceptions in the same block.\n",
        "\n",
        "Exception Hierarchy: Python's exception handling follows an inheritance hierarchy. You can catch general exceptions like Exception or more specific ones like ValueError and ZeroDivisionError based on the required level of granularity.\n",
        "\n",
        "8. What is the purpose of the with statement when handling files in Python?\n",
        "\n",
        "--> The with statement in Python is used for managing resources, like files, to ensure proper setup and cleanup. It automatically handles the closing of the file after the block of code is executed, even if an exception occurs. This leads to cleaner, more efficient code and prevents resource leaks.\n",
        "\n",
        "9. What is the difference between multithreading and multiprocessing?\n",
        "\n",
        "--> Multithreading involves running multiple threads within a single process, sharing the same memory space. It is suitable for I/O-bound tasks where threads can work concurrently without significant CPU usage.\n",
        "\n",
        "Multiprocessing involves running multiple processes, each with its own memory space, making it ideal for CPU-bound tasks as it bypasses the Global Interpreter Lock (GIL) in Python and fully utilizes multiple CPU cores.\n",
        "\n",
        "10. What are the advantages of using logging in a program?\n",
        "\n",
        "--> Using logging in a program provides several advantages:\n",
        "\n",
        "a. Tracking and Debugging: It allows you to track the flow of execution and capture error messages, making it easier to debug issues.\n",
        "\n",
        "b. Flexibility: You can log messages at different severity levels (e.g., DEBUG, INFO, ERROR), providing fine-grained control over what gets recorded.\n",
        "\n",
        "c. Persistence: Logs can be saved to files or external systems, providing a permanent record of events for later analysis or auditing.\n",
        "\n",
        "11. What is memory management in Python?\n",
        "\n",
        "--> Memory management in Python involves efficiently allocating, tracking, and deallocating memory used by objects during the program's execution.\n",
        "\n",
        "a. Automatic Garbage Collection: Python uses a garbage collector to automatically reclaim memory by tracking and cleaning up objects that are no longer in use.\n",
        "\n",
        "b. Reference Counting: Each object has a reference count, and when the count reaches zero, the memory is automatically freed.\n",
        "\n",
        "c. Memory Pools: Python uses memory pools to optimize memory allocation by reusing blocks for small objects, reducing overhead.\n",
        "\n",
        "12. What are the basic steps involved in exception handling in Python?\n",
        "\n",
        "--> a. Try Block: Place the code that may raise an exception inside the try block.\n",
        "\n",
        "b. Except Block: Use the except block to handle specific exceptions and define the actions to take if an error occurs.\n",
        "\n",
        "c. Optional Else and Finally: The else block runs if no exception occurs, while the finally block ensures code runs regardless of whether an exception was raised or not.\n",
        "\n",
        "13. Why is memory management important in Python?\n",
        "\n",
        "--> a. Efficient Resource Utilization: Proper memory management ensures that the program uses memory efficiently, preventing memory leaks and excessive memory consumption.\n",
        "\n",
        "b. Performance Optimization: Managing memory effectively helps improve the performance of a program by reducing unnecessary overhead and avoiding slowdowns due to memory issues.\n",
        "\n",
        "c. Prevents Crashes: Effective memory management helps avoid issues like segmentation faults and crashes caused by running out of memory or accessing invalid memory locations.\n",
        "\n",
        "14. What is the role of try and except in exception handling?\n",
        "\n",
        "--> a. Try Block: The try block contains the code that might raise an exception, allowing the program to attempt its execution.\n",
        "\n",
        "b. Except Block: The except block catches and handles specific exceptions raised in the try block, preventing the program from crashing and allowing custom error handling.\n",
        "\n",
        "c. Error Handling: Together, try and except allow the program to respond gracefully to errors by defining actions to take when exceptions occur.\n",
        "\n",
        "15. How does Python's garbage collection system work?\n",
        "\n",
        "--> Python's garbage collection system is designed to automatically manage memory by reclaiming unused resources. It works primarily through reference counting, where each object keeps track of how many references point to it. When the reference count drops to zero, the object is deleted and memory is freed. However, reference counting alone cannot handle circular references, where objects reference each other in a cycle. To address this, Python also uses a garbage collector that periodically checks for and cleans up these cycles. Additionally, Python employs a generational approach to garbage collection, where objects are divided into generations, and the system collects younger objects more frequently to optimize performance.\n",
        "\n",
        "16. What is the purpose of the else block in exception handling?\n",
        "\n",
        "--> The else block in exception handling is used to define code that should execute only if no exceptions were raised in the try block.\n",
        "\n",
        "a. It provides a clean way to separate successful execution from error handling.\n",
        "\n",
        "b. The else block ensures that the code inside it runs only when no exceptions occur, allowing for more specific exception-based logic.\n",
        "\n",
        "c. It helps maintain clear and readable code by preventing unnecessary error-handling code from being executed when everything runs as expected.\n",
        "\n",
        "17. What are the common logging levels in Python?\n",
        "\n",
        "--> The common logging levels in Python are:\n",
        "\n",
        "a. DEBUG: Used for detailed information, typically useful for diagnosing problems and debugging the program.\n",
        "\n",
        "b. INFO: Provides general information about the program's execution, typically used to show normal operation or milestones.\n",
        "\n",
        "c. WARNING: Indicates a potential problem or something that could lead to issues in the future, but doesn't stop the program from running.\n",
        "\n",
        "d. ERROR: Indicates a significant issue that has occurred, typically resulting in a failure of a particular operation.\n",
        "\n",
        "e. CRITICAL: Represents a severe error that might cause the program to terminate or encounter a critical failure.\n",
        "\n",
        "18. What is the difference between os.fork() and multiprocessing in Python?\n",
        "\n",
        "--> a. os.fork(): The os.fork() method creates a child process by duplicating the current process. It is primarily used in Unix-based systems and doesn't work on Windows. The child process starts executing from the point of the fork, with both processes having separate memory spaces.\n",
        "\n",
        "b. Multiprocessing Module: The multiprocessing module provides a higher-level and cross-platform interface for creating multiple processes. It abstracts platform-specific details and offers features like process pools, shared memory, and inter-process communication, making it easier to work with parallelism.\n",
        "\n",
        "c. Key Difference: os.fork() is lower-level and specific to Unix, while multiprocessing provides a more flexible, cross-platform approach to parallel processing, handling many of the complexities of process management and communication.\n",
        "\n",
        "19. What is the importance of closing a file in Python?\n",
        "\n",
        "--> a. Resource Management: Closing a file ensures that system resources (like file handles) are released properly, preventing resource leaks.\n",
        "\n",
        "b. Data Integrity: It guarantees that all data written to the file is flushed and saved, preventing data loss or corruption.\n",
        "\n",
        "c. Prevents Errors: Leaving files open can lead to errors, such as exceeding the maximum number of open files or encountering unexpected behaviors in the program.\n",
        "\n",
        "20. What is the difference between file.read() and file.readline() in Python?\n",
        "\n",
        "--> a. file.read(): This method reads the entire content of the file as a single string, allowing you to process the entire file at once.\n",
        "\n",
        "b. file.readline(): This method reads one line at a time from the file, returning it as a string, and allows you to process the file line by line.\n",
        "\n",
        "c. Key Difference: file.read() is used for reading the entire file at once, while file.readline() is used to read and process the file one line at a time, which is more memory-efficient for large files.\n",
        "\n",
        "21. What is the logging module in Python used for?\n",
        "\n",
        "--> The logging module in Python is used for recording and managing log messages generated by a program. It provides a flexible framework to log information, warnings, errors, and debug messages with varying levels of severity.\n",
        "\n",
        "a. It helps track the flow of execution and diagnose issues by logging events such as errors, system states, or custom messages.\n",
        "\n",
        "b. The module allows logs to be directed to different outputs, like the console, files, or remote systems, and can be configured for different log levels (e.g., DEBUG, INFO, ERROR).\n",
        "\n",
        "c. It supports timestamped logs, which can aid in debugging, monitoring, and maintaining the program, especially in production environments.\n",
        "\n",
        "22. What is the os module in Python used for in file handling?\n",
        "\n",
        "--> The os module in Python provides a way to interact with the operating system and is commonly used for file handling tasks.\n",
        "\n",
        "a. It allows you to perform operations like creating, deleting, and manipulating files and directories (e.g., os.remove() to delete files, os.rename() to rename files).\n",
        "\n",
        "b. The os.path submodule is used to handle file and directory paths, enabling operations like checking if a file exists (os.path.exists()), joining paths (os.path.join()), and getting file information (os.path.getsize()).\n",
        "\n",
        "c. It provides platform-independent ways to work with the file system, making code portable across different operating systems.\n",
        "\n",
        "23. What are the challenges associated with memory management in Python?\n",
        "\n",
        "--> a. Garbage Collection and Circular References: Python’s garbage collector may struggle with circular references, where objects reference each other, potentially causing memory not to be freed properly.\n",
        "\n",
        "b. Memory Leaks: Although Python has automatic memory management, poorly managed references (such as holding unnecessary references to large objects) can lead to memory leaks.\n",
        "\n",
        "c. Global Interpreter Lock (GIL): The GIL limits true parallel execution of threads, which can hinder performance in memory-intensive tasks, especially in multi-core systems.\n",
        "\n",
        "24. How do you raise an exception manually in Python?\n",
        "\n",
        "--> To raise an exception manually in Python, you use the raise keyword followed by an exception class or an instance of an exception.\n",
        "\n",
        "a. You can raise built-in exceptions like ValueError, TypeError, etc., or create custom exceptions by defining your own class that inherits from Exception.\n",
        "\n",
        "b. The raise statement allows you to interrupt the normal flow of execution and trigger error-handling code in a program.\n",
        "\n",
        "c. It can also include an optional error message to provide additional context about the exception.\n",
        "\n",
        "25. Why is it important to use multithreading in certain applications?\n",
        "\n",
        "--> a. Improved Performance for I/O-bound Tasks: Multithreading allows multiple threads to run concurrently, making it useful for applications that spend a lot of time waiting for I/O operations (e.g., reading files, making network requests), as it keeps the program responsive.\n",
        "\n",
        "b. Better Resource Utilization: By running threads in parallel, multithreading can make better use of available CPU cores, especially when performing tasks that can be broken into smaller concurrent units.\n",
        "\n",
        "c. Increased Responsiveness: Multithreading improves the responsiveness of applications, allowing tasks like UI updates or background processing to happen without blocking the main thread, providing a smoother user experience."
      ],
      "metadata": {
        "id": "AROAmXToJkMO"
      }
    },
    {
      "cell_type": "markdown",
      "source": [
        "**Practical Questions**"
      ],
      "metadata": {
        "id": "GA7l_BC0TXUY"
      }
    },
    {
      "cell_type": "code",
      "source": [
        "#1.  How can you open a file for writing in Python and write a string to it?\n",
        "\n",
        "file_name = 'example.txt'  # Specify the file name\n",
        "text_to_write = \"This is a string that will be written to the file.\"\n",
        "\n",
        "# Open the file and write to it\n",
        "with open(file_name, 'w') as file:\n",
        "    file.write(text_to_write)\n",
        "\n",
        "print(f\"String has been written to {file_name}\")\n"
      ],
      "metadata": {
        "colab": {
          "base_uri": "https://localhost:8080/"
        },
        "id": "qVI6SYuITYuI",
        "outputId": "1b419d47-ff55-4781-e928-5b4640021532"
      },
      "execution_count": null,
      "outputs": [
        {
          "output_type": "stream",
          "name": "stdout",
          "text": [
            "String has been written to example.txt\n"
          ]
        }
      ]
    },
    {
      "cell_type": "code",
      "source": [
        "#2. Write a Python program to read the contents of a file and print each line.\n",
        "\n",
        "# Specify the file name\n",
        "file_name = 'example.txt'  # Change this to the path of your file\n",
        "\n",
        "# Open the file in read mode ('r')\n",
        "with open(file_name, 'r') as file:\n",
        "    # Loop through each line in the file\n",
        "    for line in file:\n",
        "        print(line, end='')  # Print each line without adding an extra newline\n"
      ],
      "metadata": {
        "colab": {
          "base_uri": "https://localhost:8080/"
        },
        "id": "raoLj5JyUQUb",
        "outputId": "7412df9d-1051-4071-80ac-632edfe71ebb"
      },
      "execution_count": null,
      "outputs": [
        {
          "output_type": "stream",
          "name": "stdout",
          "text": [
            "This is a string that will be written to the file."
          ]
        }
      ]
    },
    {
      "cell_type": "code",
      "source": [
        "#3. How would you handle a case where the file doesn't exist while trying to open it for reading?\n",
        "\n",
        "file_name = 'example.txt'  # Replace with your file name\n",
        "\n",
        "try:\n",
        "    # Try to open the file in read mode\n",
        "    with open(file_name, 'r') as file:\n",
        "        # If the file exists, print each line\n",
        "        for line in file:\n",
        "            print(line, end='')  # Print the line without adding extra newline\n",
        "except FileNotFoundError:\n",
        "    # Handle the case where the file doesn't exist\n",
        "    print(f\"Error: The file '{file_name}' does not exist.\")\n"
      ],
      "metadata": {
        "colab": {
          "base_uri": "https://localhost:8080/"
        },
        "id": "d4MEdEa_Vilm",
        "outputId": "b1d292b2-1b9d-4db6-a2de-6849e87e205f"
      },
      "execution_count": null,
      "outputs": [
        {
          "output_type": "stream",
          "name": "stdout",
          "text": [
            "This is a string that will be written to the file."
          ]
        }
      ]
    },
    {
      "cell_type": "code",
      "source": [
        "#4. Write a Python script that reads from one file and writes its content to another file.\n",
        "\n",
        "source_file = 'source.txt'  # Replace with the name of your source file\n",
        "destination_file = 'destination.txt'  # Replace with the name of your destination file\n",
        "\n",
        "try:\n",
        "    # Open the source file in read mode\n",
        "    with open(source_file, 'r') as source:\n",
        "        # Open the destination file in write mode\n",
        "        with open(destination_file, 'w') as destination:\n",
        "            # Read the content from the source file and write it to the destination file\n",
        "            content = source.read()\n",
        "            destination.write(content)\n",
        "\n",
        "    print(f\"Content from '{source_file}' has been successfully written to '{destination_file}'.\")\n",
        "\n",
        "except FileNotFoundError:\n",
        "    print(f\"Error: The file '{source_file}' does not exist.\")\n",
        "except Exception as e:\n",
        "    print(f\"An error occurred: {e}\")\n"
      ],
      "metadata": {
        "colab": {
          "base_uri": "https://localhost:8080/"
        },
        "id": "ORyS8F76V57w",
        "outputId": "1c64d6ab-8dd6-4133-fb7d-003dda03ee45"
      },
      "execution_count": null,
      "outputs": [
        {
          "output_type": "stream",
          "name": "stdout",
          "text": [
            "Content from 'source.txt' has been successfully written to 'destination.txt'.\n"
          ]
        }
      ]
    },
    {
      "cell_type": "code",
      "source": [
        "#5. How would you catch and handle division by zero error in Python?\n",
        "\n",
        "try:\n",
        "    # Perform division\n",
        "    numerator = 10\n",
        "    denominator = 0  # This will cause a division by zero error\n",
        "    result = numerator / denominator\n",
        "    print(\"Result:\", result)\n",
        "except ZeroDivisionError:\n",
        "    # Handle division by zero error\n",
        "    print(\"Error: Cannot divide by zero.\")\n"
      ],
      "metadata": {
        "colab": {
          "base_uri": "https://localhost:8080/"
        },
        "id": "Pi38AjC2WaoZ",
        "outputId": "9929da21-91e6-480e-d28d-9cc7bb64084b"
      },
      "execution_count": null,
      "outputs": [
        {
          "output_type": "stream",
          "name": "stdout",
          "text": [
            "Error: Cannot divide by zero.\n"
          ]
        }
      ]
    },
    {
      "cell_type": "code",
      "source": [
        "#6. Write a Python program that logs an error message to a log file when a division by zero exception occurs.\n",
        "\n",
        "import logging\n",
        "\n",
        "# Configure logging to log to a file\n",
        "logging.basicConfig(filename='error_log.txt', level=logging.ERROR,\n",
        "                    format='%(asctime)s - %(levelname)s - %(message)s')\n",
        "\n",
        "try:\n",
        "    # Perform division\n",
        "    numerator = 10\n",
        "    denominator = 0  # This will cause a division by zero error\n",
        "    result = numerator / denominator\n",
        "    print(\"Result:\", result)\n",
        "\n",
        "except ZeroDivisionError as e:\n",
        "    # Log the error to the file\n",
        "    logging.error(\"Error: Cannot divide by zero. Exception: %s\", e)\n",
        "    print(\"An error occurred. Check the log file for details.\")\n"
      ],
      "metadata": {
        "colab": {
          "base_uri": "https://localhost:8080/"
        },
        "id": "MqgAsXm9W1rz",
        "outputId": "d471c227-8475-4a38-a28a-00542446eee6"
      },
      "execution_count": null,
      "outputs": [
        {
          "output_type": "stream",
          "name": "stderr",
          "text": [
            "ERROR:root:Error: Cannot divide by zero. Exception: division by zero\n"
          ]
        },
        {
          "output_type": "stream",
          "name": "stdout",
          "text": [
            "An error occurred. Check the log file for details.\n"
          ]
        }
      ]
    },
    {
      "cell_type": "code",
      "source": [
        "#7. How do you log information at different levels (INFO, ERROR, WARNING) in Python using the logging module?\n",
        "\n",
        "import logging\n",
        "\n",
        "# Configure logging to log to a file with the desired log level\n",
        "logging.basicConfig(filename='app.log', level=logging.DEBUG,  # Set the lowest level to DEBUG\n",
        "                    format='%(asctime)s - %(levelname)s - %(message)s')\n",
        "\n",
        "# Logging messages at different levels\n",
        "logging.debug(\"This is a debug message.\")  # Detailed information for debugging\n",
        "logging.info(\"This is an info message.\")   # General program information\n",
        "logging.warning(\"This is a warning message.\")  # Indicating a potential issue\n",
        "logging.error(\"This is an error message.\")  # An error occurred\n",
        "logging.critical(\"This is a critical message.\")  # A critical error, system failure\n",
        "\n",
        "print(\"Log messages have been written to 'app.log'.\")\n"
      ],
      "metadata": {
        "id": "RNEStWN0W95C"
      },
      "execution_count": null,
      "outputs": []
    },
    {
      "cell_type": "code",
      "source": [
        "#8.  Write a program to handle a file opening error using exception handling\n",
        "\n",
        "try:\n",
        "    # Attempt to open the file in read mode\n",
        "    file_name = 'non_existent_file.txt'  # Change to a file that doesn't exist to trigger an error\n",
        "    with open(file_name, 'r') as file:\n",
        "        # If the file opens successfully, read its contents\n",
        "        content = file.read()\n",
        "        print(content)\n",
        "except FileNotFoundError:\n",
        "    # Handle the case where the file is not found\n",
        "    print(f\"Error: The file '{file_name}' does not exist.\")\n",
        "except Exception as e:\n",
        "    # Handle any other exceptions that might occur\n",
        "    print(f\"An unexpected error occurred: {e}\")\n"
      ],
      "metadata": {
        "id": "lI8tx2KEXGcD"
      },
      "execution_count": null,
      "outputs": []
    },
    {
      "cell_type": "code",
      "source": [
        "#9. How can you read a file line by line and store its content in a list in Python?\n",
        "\n",
        "file_name = 'example.txt'  # Replace with your file name\n",
        "\n",
        "try:\n",
        "    # Open the file in read mode\n",
        "    with open(file_name, 'r') as file:\n",
        "        # Read all lines and store them in a list\n",
        "        lines = file.readlines()\n",
        "\n",
        "    # Print the list of lines\n",
        "    print(lines)\n",
        "except FileNotFoundError:\n",
        "    print(f\"Error: The file '{file_name}' does not exist.\")\n"
      ],
      "metadata": {
        "id": "a5FWWqc4XLoR"
      },
      "execution_count": null,
      "outputs": []
    },
    {
      "cell_type": "code",
      "source": [
        "#10. How can you append data to an existing file in Python?\n",
        "\n",
        "# Specify the file name\n",
        "file_name = 'example.txt'  # Replace with your file name\n",
        "\n",
        "# Data to be appended\n",
        "data_to_append = \"\\nThis is the new content added to the file.\"\n",
        "\n",
        "try:\n",
        "    # Open the file in append mode ('a')\n",
        "    with open(file_name, 'a') as file:\n",
        "        # Append the new data to the file\n",
        "        file.write(data_to_append)\n",
        "\n",
        "    print(f\"Data has been successfully appended to '{file_name}'.\")\n",
        "\n",
        "except Exception as e:\n",
        "    print(f\"An error occurred: {e}\")\n"
      ],
      "metadata": {
        "colab": {
          "base_uri": "https://localhost:8080/"
        },
        "id": "v6_IyECPXSAc",
        "outputId": "35fe8237-efbd-41c0-e914-e63dfff5dbc1"
      },
      "execution_count": null,
      "outputs": [
        {
          "output_type": "stream",
          "name": "stdout",
          "text": [
            "Data has been successfully appended to 'example.txt'.\n"
          ]
        }
      ]
    },
    {
      "cell_type": "code",
      "source": [
        "#11. Write a Python program that uses a try-except block to handle an error when attempting to access a dictionary key that doesn't exist.\n",
        "\n",
        "\n",
        "my_dict = {\n",
        "    'name': 'Alice',\n",
        "    'age': 25,\n",
        "    'city': 'New York'\n",
        "}\n",
        "\n",
        "# Key to access\n",
        "key_to_access = 'address'  # This key does not exist in the dictionary\n",
        "\n",
        "try:\n",
        "    # Attempt to access the value for the given key\n",
        "    value = my_dict[key_to_access]\n",
        "    print(f\"The value for the key '{key_to_access}' is: {value}\")\n",
        "except KeyError:\n",
        "    # Handle the case where the key doesn't exist\n",
        "    print(f\"Error: The key '{key_to_access}' does not exist in the dictionary.\")\n"
      ],
      "metadata": {
        "id": "8QlXI1BMXchB"
      },
      "execution_count": null,
      "outputs": []
    },
    {
      "cell_type": "code",
      "source": [
        "#12.  Write a program that demonstrates using multiple except blocks to handle different types of exceptions.\n",
        "\n",
        "try:\n",
        "    # Taking input for division\n",
        "    numerator = int(input(\"Enter the numerator: \"))\n",
        "    denominator = int(input(\"Enter the denominator: \"))\n",
        "\n",
        "    # Attempt to divide the two numbers\n",
        "    result = numerator / denominator\n",
        "    print(f\"The result of {numerator} / {denominator} is: {result}\")\n",
        "\n",
        "except ZeroDivisionError:\n",
        "    # Handle division by zero error\n",
        "    print(\"Error: Cannot divide by zero.\")\n",
        "\n",
        "except ValueError:\n",
        "    # Handle invalid input error (non-integer values)\n",
        "    print(\"Error: Please enter valid integer values.\")\n",
        "\n",
        "except Exception as e:\n",
        "    # Catch any other unexpected exceptions\n",
        "    print(f\"An unexpected error occurred: {e}\")\n"
      ],
      "metadata": {
        "id": "4jk9WGR7Xody"
      },
      "execution_count": null,
      "outputs": []
    },
    {
      "cell_type": "code",
      "source": [
        "#13. How would you check if a file exists before attempting to read it in Python?\n",
        "\n",
        "import os\n",
        "\n",
        "file_name = 'example.txt'  # Replace with your file name\n",
        "\n",
        "# Check if the file exists\n",
        "if os.path.exists(file_name):\n",
        "    try:\n",
        "        # Open the file and read its contents\n",
        "        with open(file_name, 'r') as file:\n",
        "            content = file.read()\n",
        "            print(content)\n",
        "    except Exception as e:\n",
        "        print(f\"An error occurred while reading the file: {e}\")\n",
        "else:\n",
        "    print(f\"The file '{file_name}' does not exist.\")\n"
      ],
      "metadata": {
        "colab": {
          "base_uri": "https://localhost:8080/"
        },
        "id": "IH6VzZSYXwb3",
        "outputId": "9169d9c9-03b1-4b22-b8ed-cf4073910777"
      },
      "execution_count": null,
      "outputs": [
        {
          "output_type": "stream",
          "name": "stdout",
          "text": [
            "This is a string that will be written to the file.\n",
            "This is the new content added to the file.\n"
          ]
        }
      ]
    },
    {
      "cell_type": "code",
      "source": [
        "#14.  Write a program that uses the logging module to log both informational and error messages.\n",
        "\n",
        "import logging\n",
        "\n",
        "# Configure the logging system\n",
        "logging.basicConfig(\n",
        "    filename='app.log',  # Log messages will be written to 'app.log'\n",
        "    level=logging.DEBUG,  # Capture all levels of messages from DEBUG and above\n",
        "    format='%(asctime)s - %(levelname)s - %(message)s'  # Log format with timestamp, level, and message\n",
        ")\n",
        "\n",
        "# Informational message\n",
        "logging.info(\"Program started successfully.\")\n",
        "\n",
        "# Simulating some operations\n",
        "try:\n",
        "    # Example of division by zero to generate an error\n",
        "    numerator = 10\n",
        "    denominator = 0  # This will cause a division by zero error\n",
        "    result = numerator / denominator\n",
        "    logging.info(f\"The result of {numerator} / {denominator} is: {result}\")\n",
        "\n",
        "except ZeroDivisionError as e:\n",
        "    # Log error message if division by zero occurs\n",
        "    logging.error(f\"Error: Division by zero occurred. Exception: {e}\")\n",
        "\n",
        "# Another informational message\n",
        "logging.info(\"Program execution completed.\")\n"
      ],
      "metadata": {
        "id": "ru5dtD2UX4Dm"
      },
      "execution_count": null,
      "outputs": []
    },
    {
      "cell_type": "code",
      "source": [
        "#15. Write a Python program that prints the content of a file and handles the case when the file is empty.\n",
        "\n",
        "def read_file(file_name):\n",
        "    try:\n",
        "        # Open the file in read mode\n",
        "        with open(file_name, 'r') as file:\n",
        "            # Read the content of the file\n",
        "            content = file.read()\n",
        "\n",
        "            # Check if the file is empty\n",
        "            if content:\n",
        "                print(\"File content:\")\n",
        "                print(content)\n",
        "            else:\n",
        "                print(\"The file is empty.\")\n",
        "\n",
        "    except FileNotFoundError:\n",
        "        print(f\"Error: The file '{file_name}' does not exist.\")\n",
        "    except Exception as e:\n",
        "        print(f\"An error occurred: {e}\")\n",
        "\n",
        "# Specify the file name\n",
        "file_name = 'example.txt'  # Replace with your file name\n",
        "\n",
        "# Call the function to read and print the file content\n",
        "read_file(file_name)\n"
      ],
      "metadata": {
        "id": "lsSWsz0SYGuK"
      },
      "execution_count": null,
      "outputs": []
    },
    {
      "cell_type": "code",
      "source": [
        "#16. Demonstrate how to use memory profiling to check the memory usage of a small program.\n",
        "\n",
        "# my_program.py\n",
        "from memory_profiler import profile\n",
        "\n",
        "@profile\n",
        "def create_and_sum_list():\n",
        "    # Create a list of numbers\n",
        "    numbers = [i for i in range(1000000)]\n",
        "    print(f\"First 5 numbers: {numbers[:5]}\")\n",
        "\n",
        "    # Calculate the sum of the list\n",
        "    total_sum = sum(numbers)\n",
        "    print(f\"Sum of numbers: {total_sum}\")\n",
        "\n",
        "if __name__ == '__main__':\n",
        "    create_and_sum_list()\n"
      ],
      "metadata": {
        "id": "Ohu28glFYUJo"
      },
      "execution_count": null,
      "outputs": []
    },
    {
      "cell_type": "code",
      "source": [
        "#17. Write a Python program to create and write a list of numbers to a file, one number per line.\n",
        "\n",
        "def write_numbers_to_file(file_name, numbers):\n",
        "    try:\n",
        "        # Open the file in write mode ('w')\n",
        "        with open(file_name, 'w') as file:\n",
        "            # Write each number to the file on a new line\n",
        "            for number in numbers:\n",
        "                file.write(f\"{number}\\n\")\n",
        "        print(f\"Numbers have been successfully written to {file_name}.\")\n",
        "\n",
        "    except Exception as e:\n",
        "        print(f\"An error occurred: {e}\")\n",
        "\n",
        "# List of numbers to be written to the file\n",
        "numbers = [1, 2, 3, 4, 5, 6, 7, 8, 9, 10]\n",
        "\n",
        "# File name where the numbers will be written\n",
        "file_name = 'numbers.txt'\n",
        "\n",
        "# Call the function to write numbers to the file\n",
        "write_numbers_to_file(file_name, numbers)\n"
      ],
      "metadata": {
        "colab": {
          "base_uri": "https://localhost:8080/"
        },
        "id": "8cTwf7h0YiFL",
        "outputId": "4cae2dcc-b1c5-4752-befc-27041e8c83da"
      },
      "execution_count": null,
      "outputs": [
        {
          "output_type": "stream",
          "name": "stdout",
          "text": [
            "Numbers have been successfully written to numbers.txt.\n"
          ]
        }
      ]
    },
    {
      "cell_type": "code",
      "source": [
        "#18. How would you implement a basic logging setup that logs to a file with rotation after 1MB?\n",
        "\n",
        "import logging\n",
        "from logging.handlers import RotatingFileHandler\n",
        "\n",
        "# Set up the logger\n",
        "logger = logging.getLogger('my_logger')\n",
        "logger.setLevel(logging.DEBUG)  # Set the logging level to DEBUG (captures all levels of logs)\n",
        "\n",
        "# Create a rotating file handler that rotates when the log file reaches 1MB\n",
        "log_file = 'app.log'\n",
        "max_log_size = 1 * 1024 * 1024  # 1MB in bytes\n",
        "backup_count = 3  # Number of backup files to keep\n",
        "\n",
        "# Create a RotatingFileHandler\n",
        "rotating_handler = RotatingFileHandler(\n",
        "    log_file, maxBytes=max_log_size, backupCount=backup_count\n",
        ")\n",
        "rotating_handler.setLevel(logging.DEBUG)  # Set the logging level for the handler\n",
        "\n",
        "# Define a formatter for log messages\n",
        "formatter = logging.Formatter('%(asctime)s - %(levelname)s - %(message)s')\n",
        "rotating_handler.setFormatter(formatter)\n",
        "\n",
        "# Add the handler to the logger\n",
        "logger.addHandler(rotating_handler)\n",
        "\n",
        "# Example of logging messages\n",
        "logger.debug(\"This is a debug message.\")\n",
        "logger.info(\"This is an info message.\")\n",
        "logger.warning(\"This is a warning message.\")\n",
        "logger.error(\"This is an error message.\")\n",
        "logger.critical(\"This is a critical message.\")\n",
        "\n"
      ],
      "metadata": {
        "id": "ZF0cwDpnYppj"
      },
      "execution_count": null,
      "outputs": []
    },
    {
      "cell_type": "code",
      "source": [
        "#19. Write a program that handles both IndexError and KeyError using a try-except block.\n",
        "\n",
        "def handle_index_and_key_error():\n",
        "    # List and dictionary for demonstration\n",
        "    my_list = [10, 20, 30]\n",
        "    my_dict = {'name': 'Alice', 'age': 30, 'city': 'New York'}\n",
        "\n",
        "    try:\n",
        "        # Trying to access an invalid index in the list\n",
        "        print(\"Accessing an invalid index in the list:\")\n",
        "        print(my_list[5])  # This will raise IndexError\n",
        "\n",
        "        # Trying to access a key that doesn't exist in the dictionary\n",
        "        print(\"Accessing an invalid key in the dictionary:\")\n",
        "        print(my_dict['address'])  # This will raise KeyError\n",
        "\n",
        "    except IndexError as e:\n",
        "        print(f\"IndexError occurred: {e}\")\n",
        "\n",
        "    except KeyError as e:\n",
        "        print(f\"KeyError occurred: {e}\")\n",
        "\n",
        "# Call the function\n",
        "handle_index_and_key_error()\n"
      ],
      "metadata": {
        "id": "kMvCgxAmYxie"
      },
      "execution_count": null,
      "outputs": []
    },
    {
      "cell_type": "code",
      "source": [
        "#20. How would you open a file and read its contents using a context manager in Python.\n",
        "\n",
        "def read_file_using_context_manager(file_name):\n",
        "    try:\n",
        "        # Open the file using the context manager\n",
        "        with open(file_name, 'r') as file:\n",
        "            # Read the entire content of the file\n",
        "            content = file.read()\n",
        "            print(\"File Content:\")\n",
        "            print(content)\n",
        "\n",
        "    except FileNotFoundError:\n",
        "        print(f\"Error: The file '{file_name}' does not exist.\")\n",
        "    except Exception as e:\n",
        "        print(f\"An error occurred: {e}\")\n",
        "\n",
        "# Specify the file name to read\n",
        "file_name = 'example.txt'\n",
        "\n",
        "# Call the function to read the file\n",
        "read_file_using_context_manager(file_name)\n"
      ],
      "metadata": {
        "id": "hBlnZ-FLZBel"
      },
      "execution_count": null,
      "outputs": []
    },
    {
      "cell_type": "code",
      "source": [
        "#21. Write a Python program that reads a file and prints the number of occurrences of a specific word.\n",
        "\n",
        "def count_word_in_file(file_name, word_to_count):\n",
        "    try:\n",
        "        # Initialize a counter for the word occurrences\n",
        "        word_count = 0\n",
        "\n",
        "        # Open the file using the context manager\n",
        "        with open(file_name, 'r') as file:\n",
        "            # Iterate through each line in the file\n",
        "            for line in file:\n",
        "                # Count occurrences of the specific word in the current line\n",
        "                word_count += line.lower().split().count(word_to_count.lower())\n",
        "\n",
        "        # Print the number of occurrences of the word\n",
        "        print(f\"The word '{word_to_count}' appears {word_count} times in the file.\")\n",
        "\n",
        "    except FileNotFoundError:\n",
        "        print(f\"Error: The file '{file_name}' does not exist.\")\n",
        "    except Exception as e:\n",
        "        print(f\"An error occurred: {e}\")\n",
        "\n",
        "# Specify the file name and the word to search for\n",
        "file_name = 'example.txt'  # Replace with your file name\n",
        "word_to_count = 'python'   # Replace with the word you want to count\n",
        "\n",
        "# Call the function to count the word occurrences\n",
        "count_word_in_file(file_name, word_to_count)\n"
      ],
      "metadata": {
        "id": "mqQHBtR2ZGpD"
      },
      "execution_count": null,
      "outputs": []
    },
    {
      "cell_type": "code",
      "source": [
        "#22. How can you check if a file is empty before attempting to read its contents?\n",
        "\n",
        "import os\n",
        "\n",
        "def read_file_if_not_empty(file_name):\n",
        "    # Check if the file exists and is not empty\n",
        "    if os.path.exists(file_name) and os.path.getsize(file_name) > 0:\n",
        "        try:\n",
        "            with open(file_name, 'r') as file:\n",
        "                # Read and print the contents of the file\n",
        "                content = file.read()\n",
        "                print(\"File Content:\")\n",
        "                print(content)\n",
        "        except Exception as e:\n",
        "            print(f\"An error occurred while reading the file: {e}\")\n",
        "    else:\n",
        "        print(f\"The file '{file_name}' is either empty or does not exist.\")\n",
        "\n",
        "# Specify the file name\n",
        "file_name = 'example.txt'  # Replace with your file name\n",
        "\n",
        "# Call the function to read the file\n",
        "read_file_if_not_empty(file_name)\n"
      ],
      "metadata": {
        "id": "Uh1QznsWZSPO"
      },
      "execution_count": null,
      "outputs": []
    },
    {
      "cell_type": "code",
      "source": [
        "#23. Write a Python program that writes to a log file when an error occurs during file handling.\n",
        "\n",
        "import logging\n",
        "\n",
        "# Set up the logger to log errors to a file\n",
        "logging.basicConfig(\n",
        "    filename='file_handling_errors.log',  # Log file where errors will be written\n",
        "    level=logging.ERROR,  # Log only error messages or higher (ERROR, CRITICAL)\n",
        "    format='%(asctime)s - %(levelname)s - %(message)s',  # Log format\n",
        ")\n",
        "\n",
        "def handle_file_operations(file_name):\n",
        "    try:\n",
        "        # Attempt to open the file and perform operations\n",
        "        with open(file_name, 'r') as file:\n",
        "            # Simulate reading the file (could be any operation)\n",
        "            content = file.read()\n",
        "            print(content)  # Output file contents to console (optional)\n",
        "\n",
        "    except FileNotFoundError as e:\n",
        "        logging.error(f\"FileNotFoundError: {e} - The file '{file_name}' does not exist.\")\n",
        "    except PermissionError as e:\n",
        "        logging.error(f\"PermissionError: {e} - You do not have permission to access '{file_name}'.\")\n",
        "    except Exception as e:\n",
        "        logging.error(f\"An unexpected error occurred: {e}\")\n",
        "\n",
        "# Example usage\n",
        "file_name = 'example.txt'  # Replace with the path to your file\n",
        "handle_file_operations(file_name)\n"
      ],
      "metadata": {
        "id": "H7RCKBrlZavM"
      },
      "execution_count": null,
      "outputs": []
    }
  ]
}